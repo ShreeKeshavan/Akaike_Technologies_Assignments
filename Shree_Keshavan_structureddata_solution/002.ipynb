{
 "cells": [
  {
   "cell_type": "markdown",
   "metadata": {},
   "source": [
    "# PROBLEM 2"
   ]
  },
  {
   "cell_type": "markdown",
   "metadata": {},
   "source": [
    "## OBJECTIVES"
   ]
  },
  {
   "cell_type": "markdown",
   "metadata": {},
   "source": [
    "### Calculate the Dropoff Rate:\n",
    "- Calculate the number of patients who stop taking \"Target Drug\" each month.\n",
    "- The dropoff rate is defined as the number of patients who drop off the treatment in a given month.\n",
    "     \n",
    "###  Analyze Events Leading to Dropoff:\n",
    "- Identify the events or factors that lead to patients discontinuing the \"Target Drug\" treatment.\n",
    "- Generate insights into why patients are stopping the treatment prematurely."
   ]
  },
  {
   "cell_type": "markdown",
   "metadata": {},
   "source": [
    "IMPORTING LIBRARIES"
   ]
  },
  {
   "cell_type": "code",
   "execution_count": 133,
   "metadata": {},
   "outputs": [],
   "source": [
    "import pandas as pd\n",
    "from tqdm import tqdm\n",
    "import matplotlib.pyplot as plt\n",
    "import numpy as np\n",
    "\n",
    "%matplotlib inline\n",
    "pd.options.mode.chained_assignment = None  # ignore warnings"
   ]
  },
  {
   "cell_type": "code",
   "execution_count": 92,
   "metadata": {},
   "outputs": [
    {
     "data": {
      "text/html": [
       "<div>\n",
       "<style scoped>\n",
       "    .dataframe tbody tr th:only-of-type {\n",
       "        vertical-align: middle;\n",
       "    }\n",
       "\n",
       "    .dataframe tbody tr th {\n",
       "        vertical-align: top;\n",
       "    }\n",
       "\n",
       "    .dataframe thead th {\n",
       "        text-align: right;\n",
       "    }\n",
       "</style>\n",
       "<table border=\"1\" class=\"dataframe\">\n",
       "  <thead>\n",
       "    <tr style=\"text-align: right;\">\n",
       "      <th></th>\n",
       "      <th>Patient-Uid</th>\n",
       "      <th>Date</th>\n",
       "      <th>Incident</th>\n",
       "    </tr>\n",
       "  </thead>\n",
       "  <tbody>\n",
       "    <tr>\n",
       "      <th>0</th>\n",
       "      <td>a0db1e73-1c7c-11ec-ae39-16262ee38c7f</td>\n",
       "      <td>2019-03-09</td>\n",
       "      <td>PRIMARY_DIAGNOSIS</td>\n",
       "    </tr>\n",
       "    <tr>\n",
       "      <th>1</th>\n",
       "      <td>a0dc93f2-1c7c-11ec-9cd2-16262ee38c7f</td>\n",
       "      <td>2015-05-16</td>\n",
       "      <td>PRIMARY_DIAGNOSIS</td>\n",
       "    </tr>\n",
       "    <tr>\n",
       "      <th>3</th>\n",
       "      <td>a0dc94c6-1c7c-11ec-a3a0-16262ee38c7f</td>\n",
       "      <td>2018-01-30</td>\n",
       "      <td>SYMPTOM_TYPE_0</td>\n",
       "    </tr>\n",
       "    <tr>\n",
       "      <th>4</th>\n",
       "      <td>a0dc950b-1c7c-11ec-b6ec-16262ee38c7f</td>\n",
       "      <td>2015-04-22</td>\n",
       "      <td>DRUG_TYPE_0</td>\n",
       "    </tr>\n",
       "    <tr>\n",
       "      <th>8</th>\n",
       "      <td>a0dc9543-1c7c-11ec-bb63-16262ee38c7f</td>\n",
       "      <td>2016-06-18</td>\n",
       "      <td>DRUG_TYPE_1</td>\n",
       "    </tr>\n",
       "  </tbody>\n",
       "</table>\n",
       "</div>"
      ],
      "text/plain": [
       "                            Patient-Uid       Date           Incident\n",
       "0  a0db1e73-1c7c-11ec-ae39-16262ee38c7f 2019-03-09  PRIMARY_DIAGNOSIS\n",
       "1  a0dc93f2-1c7c-11ec-9cd2-16262ee38c7f 2015-05-16  PRIMARY_DIAGNOSIS\n",
       "3  a0dc94c6-1c7c-11ec-a3a0-16262ee38c7f 2018-01-30     SYMPTOM_TYPE_0\n",
       "4  a0dc950b-1c7c-11ec-b6ec-16262ee38c7f 2015-04-22        DRUG_TYPE_0\n",
       "8  a0dc9543-1c7c-11ec-bb63-16262ee38c7f 2016-06-18        DRUG_TYPE_1"
      ]
     },
     "execution_count": 92,
     "metadata": {},
     "output_type": "execute_result"
    }
   ],
   "source": [
    "df_train = pd.read_parquet(\"train.parquet\") # loading parquet file\n",
    "df_train.head()"
   ]
  },
  {
   "cell_type": "markdown",
   "metadata": {},
   "source": [
    "# DATA PREPROCESSING"
   ]
  },
  {
   "cell_type": "code",
   "execution_count": 93,
   "metadata": {},
   "outputs": [
    {
     "data": {
      "text/html": [
       "<div>\n",
       "<style scoped>\n",
       "    .dataframe tbody tr th:only-of-type {\n",
       "        vertical-align: middle;\n",
       "    }\n",
       "\n",
       "    .dataframe tbody tr th {\n",
       "        vertical-align: top;\n",
       "    }\n",
       "\n",
       "    .dataframe thead th {\n",
       "        text-align: right;\n",
       "    }\n",
       "</style>\n",
       "<table border=\"1\" class=\"dataframe\">\n",
       "  <thead>\n",
       "    <tr style=\"text-align: right;\">\n",
       "      <th></th>\n",
       "      <th>Patient-Uid</th>\n",
       "      <th>Incident</th>\n",
       "    </tr>\n",
       "  </thead>\n",
       "  <tbody>\n",
       "    <tr>\n",
       "      <th>0</th>\n",
       "      <td>a0db1e73-1c7c-11ec-ae39-16262ee38c7f</td>\n",
       "      <td>DRUG_TYPE_7 SYMPTOM_TYPE_2 DRUG_TYPE_7 SYMPTOM...</td>\n",
       "    </tr>\n",
       "    <tr>\n",
       "      <th>1</th>\n",
       "      <td>a0dc93f2-1c7c-11ec-9cd2-16262ee38c7f</td>\n",
       "      <td>DRUG_TYPE_0 DRUG_TYPE_2 DRUG_TYPE_0 PRIMARY_DI...</td>\n",
       "    </tr>\n",
       "    <tr>\n",
       "      <th>2</th>\n",
       "      <td>a0dc94c6-1c7c-11ec-a3a0-16262ee38c7f</td>\n",
       "      <td>DRUG_TYPE_0 PRIMARY_DIAGNOSIS DRUG_TYPE_7 DRUG...</td>\n",
       "    </tr>\n",
       "    <tr>\n",
       "      <th>3</th>\n",
       "      <td>a0dc950b-1c7c-11ec-b6ec-16262ee38c7f</td>\n",
       "      <td>DRUG_TYPE_0 DRUG_TYPE_7 DRUG_TYPE_2 PRIMARY_DI...</td>\n",
       "    </tr>\n",
       "    <tr>\n",
       "      <th>4</th>\n",
       "      <td>a0dc9543-1c7c-11ec-bb63-16262ee38c7f</td>\n",
       "      <td>DRUG_TYPE_1 TEST_TYPE_1 SYMPTOM_TYPE_8 DRUG_TY...</td>\n",
       "    </tr>\n",
       "    <tr>\n",
       "      <th>5</th>\n",
       "      <td>a0dc9577-1c7c-11ec-8b4d-16262ee38c7f</td>\n",
       "      <td>DRUG_TYPE_1 DRUG_TYPE_1 DRUG_TYPE_1 DRUG_TYPE_...</td>\n",
       "    </tr>\n",
       "    <tr>\n",
       "      <th>6</th>\n",
       "      <td>a0dc95c6-1c7c-11ec-8e77-16262ee38c7f</td>\n",
       "      <td>DRUG_TYPE_2 DRUG_TYPE_0 DRUG_TYPE_6 DRUG_TYPE_...</td>\n",
       "    </tr>\n",
       "    <tr>\n",
       "      <th>7</th>\n",
       "      <td>a0dc95f9-1c7c-11ec-b968-16262ee38c7f</td>\n",
       "      <td>DRUG_TYPE_9 DRUG_TYPE_6 DRUG_TYPE_6 DRUG_TYPE_...</td>\n",
       "    </tr>\n",
       "    <tr>\n",
       "      <th>8</th>\n",
       "      <td>a0dc962a-1c7c-11ec-8a51-16262ee38c7f</td>\n",
       "      <td>DRUG_TYPE_6 DRUG_TYPE_0 DRUG_TYPE_3 SYMPTOM_TY...</td>\n",
       "    </tr>\n",
       "    <tr>\n",
       "      <th>9</th>\n",
       "      <td>a0dc9659-1c7c-11ec-a91e-16262ee38c7f</td>\n",
       "      <td>DRUG_TYPE_0 DRUG_TYPE_1 DRUG_TYPE_11 DRUG_TYPE...</td>\n",
       "    </tr>\n",
       "  </tbody>\n",
       "</table>\n",
       "</div>"
      ],
      "text/plain": [
       "                            Patient-Uid  \\\n",
       "0  a0db1e73-1c7c-11ec-ae39-16262ee38c7f   \n",
       "1  a0dc93f2-1c7c-11ec-9cd2-16262ee38c7f   \n",
       "2  a0dc94c6-1c7c-11ec-a3a0-16262ee38c7f   \n",
       "3  a0dc950b-1c7c-11ec-b6ec-16262ee38c7f   \n",
       "4  a0dc9543-1c7c-11ec-bb63-16262ee38c7f   \n",
       "5  a0dc9577-1c7c-11ec-8b4d-16262ee38c7f   \n",
       "6  a0dc95c6-1c7c-11ec-8e77-16262ee38c7f   \n",
       "7  a0dc95f9-1c7c-11ec-b968-16262ee38c7f   \n",
       "8  a0dc962a-1c7c-11ec-8a51-16262ee38c7f   \n",
       "9  a0dc9659-1c7c-11ec-a91e-16262ee38c7f   \n",
       "\n",
       "                                            Incident  \n",
       "0  DRUG_TYPE_7 SYMPTOM_TYPE_2 DRUG_TYPE_7 SYMPTOM...  \n",
       "1  DRUG_TYPE_0 DRUG_TYPE_2 DRUG_TYPE_0 PRIMARY_DI...  \n",
       "2  DRUG_TYPE_0 PRIMARY_DIAGNOSIS DRUG_TYPE_7 DRUG...  \n",
       "3  DRUG_TYPE_0 DRUG_TYPE_7 DRUG_TYPE_2 PRIMARY_DI...  \n",
       "4  DRUG_TYPE_1 TEST_TYPE_1 SYMPTOM_TYPE_8 DRUG_TY...  \n",
       "5  DRUG_TYPE_1 DRUG_TYPE_1 DRUG_TYPE_1 DRUG_TYPE_...  \n",
       "6  DRUG_TYPE_2 DRUG_TYPE_0 DRUG_TYPE_6 DRUG_TYPE_...  \n",
       "7  DRUG_TYPE_9 DRUG_TYPE_6 DRUG_TYPE_6 DRUG_TYPE_...  \n",
       "8  DRUG_TYPE_6 DRUG_TYPE_0 DRUG_TYPE_3 SYMPTOM_TY...  \n",
       "9  DRUG_TYPE_0 DRUG_TYPE_1 DRUG_TYPE_11 DRUG_TYPE...  "
      ]
     },
     "execution_count": 93,
     "metadata": {},
     "output_type": "execute_result"
    }
   ],
   "source": [
    "# Converting Date column to datetime\n",
    "df_train['Date'] = pd.to_datetime(df_train['Date'])\n",
    "\n",
    "# Sorting df by patient_id and Date\n",
    "df_train.sort_values(by=['Patient-Uid', 'Date'], inplace=True)\n",
    "\n",
    "#removing space in the TARGET_DRUG which  create problems in model building\n",
    "df_train['Incident'] = df_train['Incident'].replace('TARGET DRUG', 'TARGET_DRUG')\n",
    "\n",
    "# Grouping by patient_id and aggregating Incident column\n",
    "organised_df = df_train.groupby('Patient-Uid')['Incident'].apply(lambda x: ' '.join(x)).reset_index()\n",
    "\n",
    "organised_df.head(10)"
   ]
  },
  {
   "cell_type": "code",
   "execution_count": 94,
   "metadata": {},
   "outputs": [
    {
     "data": {
      "text/plain": [
       "(27033, 2)"
      ]
     },
     "execution_count": 94,
     "metadata": {},
     "output_type": "execute_result"
    }
   ],
   "source": [
    "organised_df.shape # shape of organised df"
   ]
  },
  {
   "cell_type": "markdown",
   "metadata": {},
   "source": [
    "## COMPUTING DROP OFF RATES"
   ]
  },
  {
   "cell_type": "markdown",
   "metadata": {},
   "source": [
    "### POSITIVE DATAFRAME"
   ]
  },
  {
   "cell_type": "code",
   "execution_count": 95,
   "metadata": {},
   "outputs": [
    {
     "data": {
      "text/plain": [
       "(9374, 2)"
      ]
     },
     "execution_count": 95,
     "metadata": {},
     "output_type": "execute_result"
    }
   ],
   "source": [
    "# rows which includes only the TARGET_DRUG\n",
    "pos_df = organised_df[organised_df['Incident'].str.contains('TARGET_DRUG')]\n",
    "\n",
    "pos_df.shape"
   ]
  },
  {
   "cell_type": "code",
   "execution_count": 96,
   "metadata": {},
   "outputs": [
    {
     "data": {
      "text/html": [
       "<div>\n",
       "<style scoped>\n",
       "    .dataframe tbody tr th:only-of-type {\n",
       "        vertical-align: middle;\n",
       "    }\n",
       "\n",
       "    .dataframe tbody tr th {\n",
       "        vertical-align: top;\n",
       "    }\n",
       "\n",
       "    .dataframe thead th {\n",
       "        text-align: right;\n",
       "    }\n",
       "</style>\n",
       "<table border=\"1\" class=\"dataframe\">\n",
       "  <thead>\n",
       "    <tr style=\"text-align: right;\">\n",
       "      <th></th>\n",
       "      <th>Patient-Uid</th>\n",
       "      <th>Incident</th>\n",
       "    </tr>\n",
       "  </thead>\n",
       "  <tbody>\n",
       "    <tr>\n",
       "      <th>17659</th>\n",
       "      <td>a0e9c384-1c7c-11ec-81a0-16262ee38c7f</td>\n",
       "      <td>DRUG_TYPE_7 TEST_TYPE_0 DRUG_TYPE_0 DRUG_TYPE_...</td>\n",
       "    </tr>\n",
       "    <tr>\n",
       "      <th>17660</th>\n",
       "      <td>a0e9c3b3-1c7c-11ec-ae8e-16262ee38c7f</td>\n",
       "      <td>PRIMARY_DIAGNOSIS DRUG_TYPE_2 DRUG_TYPE_2 PRIM...</td>\n",
       "    </tr>\n",
       "    <tr>\n",
       "      <th>17661</th>\n",
       "      <td>a0e9c3e3-1c7c-11ec-a8b9-16262ee38c7f</td>\n",
       "      <td>DRUG_TYPE_5 DRUG_TYPE_5 DRUG_TYPE_7 SYMPTOM_TY...</td>\n",
       "    </tr>\n",
       "    <tr>\n",
       "      <th>17662</th>\n",
       "      <td>a0e9c414-1c7c-11ec-889a-16262ee38c7f</td>\n",
       "      <td>DRUG_TYPE_9 DRUG_TYPE_7 DRUG_TYPE_7 SYMPTOM_TY...</td>\n",
       "    </tr>\n",
       "    <tr>\n",
       "      <th>17663</th>\n",
       "      <td>a0e9c443-1c7c-11ec-9eb0-16262ee38c7f</td>\n",
       "      <td>DRUG_TYPE_8 DRUG_TYPE_7 SYMPTOM_TYPE_0 DRUG_TY...</td>\n",
       "    </tr>\n",
       "  </tbody>\n",
       "</table>\n",
       "</div>"
      ],
      "text/plain": [
       "                                Patient-Uid  \\\n",
       "17659  a0e9c384-1c7c-11ec-81a0-16262ee38c7f   \n",
       "17660  a0e9c3b3-1c7c-11ec-ae8e-16262ee38c7f   \n",
       "17661  a0e9c3e3-1c7c-11ec-a8b9-16262ee38c7f   \n",
       "17662  a0e9c414-1c7c-11ec-889a-16262ee38c7f   \n",
       "17663  a0e9c443-1c7c-11ec-9eb0-16262ee38c7f   \n",
       "\n",
       "                                                Incident  \n",
       "17659  DRUG_TYPE_7 TEST_TYPE_0 DRUG_TYPE_0 DRUG_TYPE_...  \n",
       "17660  PRIMARY_DIAGNOSIS DRUG_TYPE_2 DRUG_TYPE_2 PRIM...  \n",
       "17661  DRUG_TYPE_5 DRUG_TYPE_5 DRUG_TYPE_7 SYMPTOM_TY...  \n",
       "17662  DRUG_TYPE_9 DRUG_TYPE_7 DRUG_TYPE_7 SYMPTOM_TY...  \n",
       "17663  DRUG_TYPE_8 DRUG_TYPE_7 SYMPTOM_TYPE_0 DRUG_TY...  "
      ]
     },
     "execution_count": 96,
     "metadata": {},
     "output_type": "execute_result"
    }
   ],
   "source": [
    "pos_df.head() "
   ]
  },
  {
   "cell_type": "code",
   "execution_count": 97,
   "metadata": {},
   "outputs": [
    {
     "name": "stderr",
     "output_type": "stream",
     "text": [
      "  0%|          | 0/9374 [00:00<?, ?it/s]"
     ]
    },
    {
     "name": "stderr",
     "output_type": "stream",
     "text": [
      "100%|██████████| 9374/9374 [20:49<00:00,  7.50it/s]"
     ]
    },
    {
     "name": "stdout",
     "output_type": "stream",
     "text": [
      "9374\n"
     ]
    },
    {
     "name": "stderr",
     "output_type": "stream",
     "text": [
      "\n"
     ]
    }
   ],
   "source": [
    "# listing all the incident dates for each patient and adding it to the dataset\n",
    "grouped_dates=[]\n",
    "\n",
    "for patient_id in tqdm(list(pos_df['Patient-Uid'].values)):\n",
    "    each_patient_data = df_train[df_train['Patient-Uid']==patient_id]['Date'].values\n",
    "    grouped_dates.append(each_patient_data)\n",
    "\n",
    "print(len(grouped_dates))"
   ]
  },
  {
   "cell_type": "code",
   "execution_count": 98,
   "metadata": {},
   "outputs": [
    {
     "data": {
      "text/html": [
       "<div>\n",
       "<style scoped>\n",
       "    .dataframe tbody tr th:only-of-type {\n",
       "        vertical-align: middle;\n",
       "    }\n",
       "\n",
       "    .dataframe tbody tr th {\n",
       "        vertical-align: top;\n",
       "    }\n",
       "\n",
       "    .dataframe thead th {\n",
       "        text-align: right;\n",
       "    }\n",
       "</style>\n",
       "<table border=\"1\" class=\"dataframe\">\n",
       "  <thead>\n",
       "    <tr style=\"text-align: right;\">\n",
       "      <th></th>\n",
       "      <th>Patient-Uid</th>\n",
       "      <th>Incident</th>\n",
       "      <th>Date_sequence</th>\n",
       "    </tr>\n",
       "  </thead>\n",
       "  <tbody>\n",
       "    <tr>\n",
       "      <th>17659</th>\n",
       "      <td>a0e9c384-1c7c-11ec-81a0-16262ee38c7f</td>\n",
       "      <td>DRUG_TYPE_7 TEST_TYPE_0 DRUG_TYPE_0 DRUG_TYPE_...</td>\n",
       "      <td>[2015-04-14T00:00:00.000000, 2015-09-07T00:00:...</td>\n",
       "    </tr>\n",
       "    <tr>\n",
       "      <th>17660</th>\n",
       "      <td>a0e9c3b3-1c7c-11ec-ae8e-16262ee38c7f</td>\n",
       "      <td>PRIMARY_DIAGNOSIS DRUG_TYPE_2 DRUG_TYPE_2 PRIM...</td>\n",
       "      <td>[2015-04-16T00:00:00.000000, 2015-04-23T00:00:...</td>\n",
       "    </tr>\n",
       "    <tr>\n",
       "      <th>17661</th>\n",
       "      <td>a0e9c3e3-1c7c-11ec-a8b9-16262ee38c7f</td>\n",
       "      <td>DRUG_TYPE_5 DRUG_TYPE_5 DRUG_TYPE_7 SYMPTOM_TY...</td>\n",
       "      <td>[2015-09-16T00:00:00.000000, 2015-11-13T00:00:...</td>\n",
       "    </tr>\n",
       "    <tr>\n",
       "      <th>17662</th>\n",
       "      <td>a0e9c414-1c7c-11ec-889a-16262ee38c7f</td>\n",
       "      <td>DRUG_TYPE_9 DRUG_TYPE_7 DRUG_TYPE_7 SYMPTOM_TY...</td>\n",
       "      <td>[2015-05-01T00:00:00.000000, 2015-05-01T00:00:...</td>\n",
       "    </tr>\n",
       "    <tr>\n",
       "      <th>17663</th>\n",
       "      <td>a0e9c443-1c7c-11ec-9eb0-16262ee38c7f</td>\n",
       "      <td>DRUG_TYPE_8 DRUG_TYPE_7 SYMPTOM_TYPE_0 DRUG_TY...</td>\n",
       "      <td>[2015-04-16T00:00:00.000000, 2015-09-11T00:00:...</td>\n",
       "    </tr>\n",
       "  </tbody>\n",
       "</table>\n",
       "</div>"
      ],
      "text/plain": [
       "                                Patient-Uid  \\\n",
       "17659  a0e9c384-1c7c-11ec-81a0-16262ee38c7f   \n",
       "17660  a0e9c3b3-1c7c-11ec-ae8e-16262ee38c7f   \n",
       "17661  a0e9c3e3-1c7c-11ec-a8b9-16262ee38c7f   \n",
       "17662  a0e9c414-1c7c-11ec-889a-16262ee38c7f   \n",
       "17663  a0e9c443-1c7c-11ec-9eb0-16262ee38c7f   \n",
       "\n",
       "                                                Incident  \\\n",
       "17659  DRUG_TYPE_7 TEST_TYPE_0 DRUG_TYPE_0 DRUG_TYPE_...   \n",
       "17660  PRIMARY_DIAGNOSIS DRUG_TYPE_2 DRUG_TYPE_2 PRIM...   \n",
       "17661  DRUG_TYPE_5 DRUG_TYPE_5 DRUG_TYPE_7 SYMPTOM_TY...   \n",
       "17662  DRUG_TYPE_9 DRUG_TYPE_7 DRUG_TYPE_7 SYMPTOM_TY...   \n",
       "17663  DRUG_TYPE_8 DRUG_TYPE_7 SYMPTOM_TYPE_0 DRUG_TY...   \n",
       "\n",
       "                                           Date_sequence  \n",
       "17659  [2015-04-14T00:00:00.000000, 2015-09-07T00:00:...  \n",
       "17660  [2015-04-16T00:00:00.000000, 2015-04-23T00:00:...  \n",
       "17661  [2015-09-16T00:00:00.000000, 2015-11-13T00:00:...  \n",
       "17662  [2015-05-01T00:00:00.000000, 2015-05-01T00:00:...  \n",
       "17663  [2015-04-16T00:00:00.000000, 2015-09-11T00:00:...  "
      ]
     },
     "execution_count": 98,
     "metadata": {},
     "output_type": "execute_result"
    }
   ],
   "source": [
    "# creating new column with grouped dates\n",
    "pos_df['Date_sequence']=grouped_dates\n",
    "pos_df.head()"
   ]
  },
  {
   "cell_type": "code",
   "execution_count": 99,
   "metadata": {},
   "outputs": [
    {
     "name": "stderr",
     "output_type": "stream",
     "text": [
      "100%|██████████| 9374/9374 [00:02<00:00, 4417.03it/s]\n"
     ]
    }
   ],
   "source": [
    "# list of those dates in which the target_drug is taken by the patient and adding it to the dataset\n",
    "date_of_tar_drug=[]\n",
    "for j in tqdm(range(pos_df.shape[0])):\n",
    "    pat_wise_tar_grug=[]\n",
    "    for i, incident in enumerate(pos_df.iloc[j]['Incident'].split()):\n",
    "        if incident==\"TARGET_DRUG\":\n",
    "            pat_wise_tar_grug.append(pos_df.iloc[j]['Date_sequence'][i])\n",
    "    \n",
    "    date_of_tar_drug.append(pat_wise_tar_grug)\n",
    "        "
   ]
  },
  {
   "cell_type": "code",
   "execution_count": 100,
   "metadata": {},
   "outputs": [
    {
     "data": {
      "text/html": [
       "<div>\n",
       "<style scoped>\n",
       "    .dataframe tbody tr th:only-of-type {\n",
       "        vertical-align: middle;\n",
       "    }\n",
       "\n",
       "    .dataframe tbody tr th {\n",
       "        vertical-align: top;\n",
       "    }\n",
       "\n",
       "    .dataframe thead th {\n",
       "        text-align: right;\n",
       "    }\n",
       "</style>\n",
       "<table border=\"1\" class=\"dataframe\">\n",
       "  <thead>\n",
       "    <tr style=\"text-align: right;\">\n",
       "      <th></th>\n",
       "      <th>Patient-Uid</th>\n",
       "      <th>Incident</th>\n",
       "      <th>Date_sequence</th>\n",
       "      <th>date_of_tar_drug</th>\n",
       "    </tr>\n",
       "  </thead>\n",
       "  <tbody>\n",
       "    <tr>\n",
       "      <th>17659</th>\n",
       "      <td>a0e9c384-1c7c-11ec-81a0-16262ee38c7f</td>\n",
       "      <td>DRUG_TYPE_7 TEST_TYPE_0 DRUG_TYPE_0 DRUG_TYPE_...</td>\n",
       "      <td>[2015-04-14T00:00:00.000000, 2015-09-07T00:00:...</td>\n",
       "      <td>[2020-07-08T00:00:00.000000, 2020-08-05T00:00:...</td>\n",
       "    </tr>\n",
       "    <tr>\n",
       "      <th>17660</th>\n",
       "      <td>a0e9c3b3-1c7c-11ec-ae8e-16262ee38c7f</td>\n",
       "      <td>PRIMARY_DIAGNOSIS DRUG_TYPE_2 DRUG_TYPE_2 PRIM...</td>\n",
       "      <td>[2015-04-16T00:00:00.000000, 2015-04-23T00:00:...</td>\n",
       "      <td>[2018-04-24T00:00:00.000000, 2018-05-17T00:00:...</td>\n",
       "    </tr>\n",
       "    <tr>\n",
       "      <th>17661</th>\n",
       "      <td>a0e9c3e3-1c7c-11ec-a8b9-16262ee38c7f</td>\n",
       "      <td>DRUG_TYPE_5 DRUG_TYPE_5 DRUG_TYPE_7 SYMPTOM_TY...</td>\n",
       "      <td>[2015-09-16T00:00:00.000000, 2015-11-13T00:00:...</td>\n",
       "      <td>[2019-10-31T00:00:00.000000, 2019-12-12T00:00:...</td>\n",
       "    </tr>\n",
       "    <tr>\n",
       "      <th>17662</th>\n",
       "      <td>a0e9c414-1c7c-11ec-889a-16262ee38c7f</td>\n",
       "      <td>DRUG_TYPE_9 DRUG_TYPE_7 DRUG_TYPE_7 SYMPTOM_TY...</td>\n",
       "      <td>[2015-05-01T00:00:00.000000, 2015-05-01T00:00:...</td>\n",
       "      <td>[2018-04-05T00:00:00.000000, 2018-06-24T00:00:...</td>\n",
       "    </tr>\n",
       "    <tr>\n",
       "      <th>17663</th>\n",
       "      <td>a0e9c443-1c7c-11ec-9eb0-16262ee38c7f</td>\n",
       "      <td>DRUG_TYPE_8 DRUG_TYPE_7 SYMPTOM_TYPE_0 DRUG_TY...</td>\n",
       "      <td>[2015-04-16T00:00:00.000000, 2015-09-11T00:00:...</td>\n",
       "      <td>[2019-09-10T00:00:00.000000, 2019-10-10T00:00:...</td>\n",
       "    </tr>\n",
       "  </tbody>\n",
       "</table>\n",
       "</div>"
      ],
      "text/plain": [
       "                                Patient-Uid  \\\n",
       "17659  a0e9c384-1c7c-11ec-81a0-16262ee38c7f   \n",
       "17660  a0e9c3b3-1c7c-11ec-ae8e-16262ee38c7f   \n",
       "17661  a0e9c3e3-1c7c-11ec-a8b9-16262ee38c7f   \n",
       "17662  a0e9c414-1c7c-11ec-889a-16262ee38c7f   \n",
       "17663  a0e9c443-1c7c-11ec-9eb0-16262ee38c7f   \n",
       "\n",
       "                                                Incident  \\\n",
       "17659  DRUG_TYPE_7 TEST_TYPE_0 DRUG_TYPE_0 DRUG_TYPE_...   \n",
       "17660  PRIMARY_DIAGNOSIS DRUG_TYPE_2 DRUG_TYPE_2 PRIM...   \n",
       "17661  DRUG_TYPE_5 DRUG_TYPE_5 DRUG_TYPE_7 SYMPTOM_TY...   \n",
       "17662  DRUG_TYPE_9 DRUG_TYPE_7 DRUG_TYPE_7 SYMPTOM_TY...   \n",
       "17663  DRUG_TYPE_8 DRUG_TYPE_7 SYMPTOM_TYPE_0 DRUG_TY...   \n",
       "\n",
       "                                           Date_sequence  \\\n",
       "17659  [2015-04-14T00:00:00.000000, 2015-09-07T00:00:...   \n",
       "17660  [2015-04-16T00:00:00.000000, 2015-04-23T00:00:...   \n",
       "17661  [2015-09-16T00:00:00.000000, 2015-11-13T00:00:...   \n",
       "17662  [2015-05-01T00:00:00.000000, 2015-05-01T00:00:...   \n",
       "17663  [2015-04-16T00:00:00.000000, 2015-09-11T00:00:...   \n",
       "\n",
       "                                        date_of_tar_drug  \n",
       "17659  [2020-07-08T00:00:00.000000, 2020-08-05T00:00:...  \n",
       "17660  [2018-04-24T00:00:00.000000, 2018-05-17T00:00:...  \n",
       "17661  [2019-10-31T00:00:00.000000, 2019-12-12T00:00:...  \n",
       "17662  [2018-04-05T00:00:00.000000, 2018-06-24T00:00:...  \n",
       "17663  [2019-09-10T00:00:00.000000, 2019-10-10T00:00:...  "
      ]
     },
     "execution_count": 100,
     "metadata": {},
     "output_type": "execute_result"
    }
   ],
   "source": [
    "# creating new column of date target_drug is taken by the patient\n",
    "pos_df['date_of_tar_drug']=date_of_tar_drug\n",
    "pos_df.head()"
   ]
  },
  {
   "cell_type": "code",
   "execution_count": 101,
   "metadata": {},
   "outputs": [
    {
     "name": "stderr",
     "output_type": "stream",
     "text": [
      "100%|██████████| 9374/9374 [00:00<00:00, 102467.26it/s]\n"
     ]
    },
    {
     "data": {
      "text/plain": [
       "{'2020-07': 269,\n",
       " '2019-10': 325,\n",
       " '2019-09': 230,\n",
       " '2020-02': 225,\n",
       " '2020-06': 258,\n",
       " '2018-12': 133,\n",
       " '2019-03': 110,\n",
       " '2018-08': 167,\n",
       " '2019-01': 141,\n",
       " '2018-05': 185,\n",
       " '2020-04': 293,\n",
       " '2019-05': 190,\n",
       " '2018-06': 187,\n",
       " '2019-02': 107,\n",
       " '2018-11': 128,\n",
       " '2019-11': 252,\n",
       " '2018-10': 142,\n",
       " '2018-03': 183,\n",
       " '2019-07': 167,\n",
       " '2019-12': 279,\n",
       " '2019-04': 148,\n",
       " '2019-06': 163,\n",
       " '2020-01': 254,\n",
       " '2020-03': 233,\n",
       " '2020-05': 256,\n",
       " '2018-09': 131,\n",
       " '2017-12': 4,\n",
       " '2018-07': 155,\n",
       " '2018-04': 215,\n",
       " '2017-10': 4,\n",
       " '2019-08': 239,\n",
       " '2018-01': 5,\n",
       " '2018-02': 6,\n",
       " '2017-11': 1,\n",
       " '2017-08': 2}"
      ]
     },
     "execution_count": 101,
     "metadata": {},
     "output_type": "execute_result"
    }
   ],
   "source": [
    "#storing the number of patients dropping of each month \n",
    "counts_per_month={}\n",
    "\n",
    "#collecting the list of patients who stopped using target_drug \n",
    "list_of_dropoff_patients=[]\n",
    "\n",
    "#Looping through the target_drug usage dates of each patient\n",
    "for i,L in enumerate(tqdm(date_of_tar_drug)):\n",
    "\n",
    "    #checking the difference in dates of first usage and last usage if it is < 365, then it is the case of droppoff\n",
    "    if int((L[-1]-L[0])/ np.timedelta64(1, 'D')) < 365:\n",
    "        list_of_dropoff_patients.append(i)\n",
    "        if np.datetime_as_string(L[0], unit='M') not in counts_per_month:\n",
    "            counts_per_month[np.datetime_as_string(L[0], unit='M')]=1\n",
    "        else:\n",
    "            counts_per_month[np.datetime_as_string(L[0], unit='M')]+=1\n",
    "\n",
    "counts_per_month\n"
   ]
  },
  {
   "cell_type": "markdown",
   "metadata": {},
   "source": [
    "## PLOTTING DROP OF RATES"
   ]
  },
  {
   "cell_type": "code",
   "execution_count": 102,
   "metadata": {},
   "outputs": [
    {
     "data": {
      "image/png": "[encoded data removed]",
      "text/plain": [
       "<Figure size 900x400 with 1 Axes>"
      ]
     },
     "metadata": {},
     "output_type": "display_data"
    }
   ],
   "source": [
    "#Sorting  the keys in order, to have the x-axis as the timeline\n",
    "keys_list = sorted(list(counts_per_month.keys()))\n",
    "#getting the coreesponding values\n",
    "values_list= [counts_per_month[key] for key in keys_list]\n",
    "\n",
    "#Ploting in the format of a bar graph - Month Wise Drop-off Rates\n",
    "plt.figure(figsize=(9,4))\n",
    "plt.bar(keys_list,values_list)\n",
    "plt.title(\"Month Wise Drop-off Rates\")\n",
    "plt.xlabel('Months')\n",
    "plt.ylabel('number of patients dropping off')\n",
    "plt.xticks(rotation=90)\n",
    "plt.show()"
   ]
  },
  {
   "cell_type": "markdown",
   "metadata": {},
   "source": [
    "## COMPUTING EVENTS LEADS TO DROP OFF"
   ]
  },
  {
   "cell_type": "code",
   "execution_count": 148,
   "metadata": {},
   "outputs": [],
   "source": [
    "df_2 = pd.read_parquet(\"train.parquet\")"
   ]
  },
  {
   "cell_type": "code",
   "execution_count": 149,
   "metadata": {},
   "outputs": [
    {
     "data": {
      "text/html": [
       "<div>\n",
       "<style scoped>\n",
       "    .dataframe tbody tr th:only-of-type {\n",
       "        vertical-align: middle;\n",
       "    }\n",
       "\n",
       "    .dataframe tbody tr th {\n",
       "        vertical-align: top;\n",
       "    }\n",
       "\n",
       "    .dataframe thead th {\n",
       "        text-align: right;\n",
       "    }\n",
       "</style>\n",
       "<table border=\"1\" class=\"dataframe\">\n",
       "  <thead>\n",
       "    <tr style=\"text-align: right;\">\n",
       "      <th></th>\n",
       "      <th>Patient-Uid</th>\n",
       "      <th>Date</th>\n",
       "      <th>Incident</th>\n",
       "    </tr>\n",
       "  </thead>\n",
       "  <tbody>\n",
       "    <tr>\n",
       "      <th>0</th>\n",
       "      <td>a0db1e73-1c7c-11ec-ae39-16262ee38c7f</td>\n",
       "      <td>2019-03-09</td>\n",
       "      <td>PRIMARY_DIAGNOSIS</td>\n",
       "    </tr>\n",
       "    <tr>\n",
       "      <th>1</th>\n",
       "      <td>a0dc93f2-1c7c-11ec-9cd2-16262ee38c7f</td>\n",
       "      <td>2015-05-16</td>\n",
       "      <td>PRIMARY_DIAGNOSIS</td>\n",
       "    </tr>\n",
       "    <tr>\n",
       "      <th>3</th>\n",
       "      <td>a0dc94c6-1c7c-11ec-a3a0-16262ee38c7f</td>\n",
       "      <td>2018-01-30</td>\n",
       "      <td>SYMPTOM_TYPE_0</td>\n",
       "    </tr>\n",
       "    <tr>\n",
       "      <th>4</th>\n",
       "      <td>a0dc950b-1c7c-11ec-b6ec-16262ee38c7f</td>\n",
       "      <td>2015-04-22</td>\n",
       "      <td>DRUG_TYPE_0</td>\n",
       "    </tr>\n",
       "    <tr>\n",
       "      <th>8</th>\n",
       "      <td>a0dc9543-1c7c-11ec-bb63-16262ee38c7f</td>\n",
       "      <td>2016-06-18</td>\n",
       "      <td>DRUG_TYPE_1</td>\n",
       "    </tr>\n",
       "  </tbody>\n",
       "</table>\n",
       "</div>"
      ],
      "text/plain": [
       "                            Patient-Uid       Date           Incident\n",
       "0  a0db1e73-1c7c-11ec-ae39-16262ee38c7f 2019-03-09  PRIMARY_DIAGNOSIS\n",
       "1  a0dc93f2-1c7c-11ec-9cd2-16262ee38c7f 2015-05-16  PRIMARY_DIAGNOSIS\n",
       "3  a0dc94c6-1c7c-11ec-a3a0-16262ee38c7f 2018-01-30     SYMPTOM_TYPE_0\n",
       "4  a0dc950b-1c7c-11ec-b6ec-16262ee38c7f 2015-04-22        DRUG_TYPE_0\n",
       "8  a0dc9543-1c7c-11ec-bb63-16262ee38c7f 2016-06-18        DRUG_TYPE_1"
      ]
     },
     "execution_count": 149,
     "metadata": {},
     "output_type": "execute_result"
    }
   ],
   "source": [
    "df_2.head()"
   ]
  },
  {
   "cell_type": "code",
   "execution_count": 150,
   "metadata": {},
   "outputs": [],
   "source": [
    "# df contains target drug taken patients only\n",
    "pos_df = df_2[df_2['Incident'] == 'TARGET DRUG']\n"
   ]
  },
  {
   "cell_type": "code",
   "execution_count": 151,
   "metadata": {},
   "outputs": [],
   "source": [
    "# Calculating the dropoff rate by month\n",
    "pos_df['Date'] = pd.to_datetime(pos_df['Date'])\n",
    "pos_df['Month'] = pos_df['Date'].dt.month\n",
    "dropoff_rates = pos_df.groupby('Month')['Patient-Uid'].nunique().diff().fillna(0)"
   ]
  },
  {
   "cell_type": "code",
   "execution_count": 152,
   "metadata": {},
   "outputs": [],
   "source": [
    "\n",
    "# analyzing events driving dropp-off\n",
    "do_resn = df_2[df_2['Patient-Uid'].isin(pos_df['Patient-Uid'])]\n",
    "do_resn = do_resn[do_resn['Date'] < do_resn.groupby('Patient-Uid')['Date'].transform('max')]\n",
    "do_resn = do_resn[do_resn['Incident'] != 'TARGET DRUG']"
   ]
  },
  {
   "cell_type": "code",
   "execution_count": 153,
   "metadata": {},
   "outputs": [],
   "source": [
    "# calculating the frequency of each event leading to drop-off\n",
    "freq_of_incidents = do_resn['Incident'].value_counts()\n"
   ]
  },
  {
   "cell_type": "markdown",
   "metadata": {},
   "source": [
    "## PLOTTING EVENTS LEADS TO DROP OFF"
   ]
  },
  {
   "cell_type": "code",
   "execution_count": 154,
   "metadata": {},
   "outputs": [
    {
     "data": {
      "image/png": "[encoded data removed]",
      "text/plain": [
       "<Figure size 2000x800 with 1 Axes>"
      ]
     },
     "metadata": {},
     "output_type": "display_data"
    }
   ],
   "source": [
    "# Plot the events leading to drop-off\n",
    "plt.figure(figsize=(20, 8))\n",
    "freq_of_incidents.plot(kind='bar')\n",
    "plt.xlabel('Events')\n",
    "plt.ylabel('Frequency')\n",
    "plt.title('Events Stopping Patients')\n",
    "plt.show()  "
   ]
  }
 ],
 "metadata": {
  "kernelspec": {
   "display_name": "myenv",
   "language": "python",
   "name": "python3"
  },
  "language_info": {
   "codemirror_mode": {
    "name": "ipython",
    "version": 3
   },
   "file_extension": ".py",
   "mimetype": "text/x-python",
   "name": "python",
   "nbconvert_exporter": "python",
   "pygments_lexer": "ipython3",
   "version": "3.11.4"
  }
 },
 "nbformat": 4,
 "nbformat_minor": 2
}
